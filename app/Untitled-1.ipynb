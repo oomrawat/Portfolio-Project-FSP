{
 "cells": [
  {
   "cell_type": "code",
   "execution_count": 9,
   "metadata": {},
   "outputs": [],
   "source": [
    "import pandas as pd\n",
    "import matplotlib.pyplot as plt\n",
    "from matplotlib.patches import Patch"
   ]
  },
  {
   "cell_type": "code",
   "execution_count": null,
   "metadata": {},
   "outputs": [],
   "source": [
    "pastel_colors = [\n",
    "    '#c4291c',\n",
    "    '#8b8888',\n",
    "    '#7b86c6',\n",
    "    '#5db47d',\n",
    "    '#4499df',\n",
    "    '#4599df',\n",
    "    '#397e49',\n",
    "    '#832da4',\n",
    "    '#e25d33',\n",
    "    '#d98077',\n",
    "    '#edc04c'\n",
    "]"
   ]
  },
  {
   "cell_type": "code",
   "execution_count": 10,
   "metadata": {},
   "outputs": [],
   "source": [
    "csv_file = '../data/ind_niftytotalmarket_list.csv'"
   ]
  },
  {
   "cell_type": "code",
   "execution_count": 11,
   "metadata": {},
   "outputs": [],
   "source": [
    "df = pd.read_csv(csv_file)"
   ]
  },
  {
   "cell_type": "code",
   "execution_count": 12,
   "metadata": {},
   "outputs": [
    {
     "data": {
      "text/html": [
       "<div>\n",
       "<style scoped>\n",
       "    .dataframe tbody tr th:only-of-type {\n",
       "        vertical-align: middle;\n",
       "    }\n",
       "\n",
       "    .dataframe tbody tr th {\n",
       "        vertical-align: top;\n",
       "    }\n",
       "\n",
       "    .dataframe thead th {\n",
       "        text-align: right;\n",
       "    }\n",
       "</style>\n",
       "<table border=\"1\" class=\"dataframe\">\n",
       "  <thead>\n",
       "    <tr style=\"text-align: right;\">\n",
       "      <th></th>\n",
       "      <th>Company Name</th>\n",
       "      <th>Industry</th>\n",
       "      <th>Symbol</th>\n",
       "      <th>Series</th>\n",
       "      <th>ISIN Code</th>\n",
       "    </tr>\n",
       "  </thead>\n",
       "  <tbody>\n",
       "    <tr>\n",
       "      <th>0</th>\n",
       "      <td>360 ONE WAM Ltd.</td>\n",
       "      <td>Financial Services</td>\n",
       "      <td>360ONE</td>\n",
       "      <td>EQ</td>\n",
       "      <td>INE466L01038</td>\n",
       "    </tr>\n",
       "    <tr>\n",
       "      <th>1</th>\n",
       "      <td>3M India Ltd.</td>\n",
       "      <td>Diversified</td>\n",
       "      <td>3MINDIA</td>\n",
       "      <td>EQ</td>\n",
       "      <td>INE470A01017</td>\n",
       "    </tr>\n",
       "    <tr>\n",
       "      <th>2</th>\n",
       "      <td>ABB India Ltd.</td>\n",
       "      <td>Capital Goods</td>\n",
       "      <td>ABB</td>\n",
       "      <td>EQ</td>\n",
       "      <td>INE117A01022</td>\n",
       "    </tr>\n",
       "    <tr>\n",
       "      <th>3</th>\n",
       "      <td>ACC Ltd.</td>\n",
       "      <td>Construction Materials</td>\n",
       "      <td>ACC</td>\n",
       "      <td>EQ</td>\n",
       "      <td>INE012A01025</td>\n",
       "    </tr>\n",
       "    <tr>\n",
       "      <th>4</th>\n",
       "      <td>AGI Greenpac Ltd.</td>\n",
       "      <td>Capital Goods</td>\n",
       "      <td>AGI</td>\n",
       "      <td>EQ</td>\n",
       "      <td>INE415A01038</td>\n",
       "    </tr>\n",
       "    <tr>\n",
       "      <th>...</th>\n",
       "      <td>...</td>\n",
       "      <td>...</td>\n",
       "      <td>...</td>\n",
       "      <td>...</td>\n",
       "      <td>...</td>\n",
       "    </tr>\n",
       "    <tr>\n",
       "      <th>746</th>\n",
       "      <td>Zomato Ltd.</td>\n",
       "      <td>Consumer Services</td>\n",
       "      <td>ZOMATO</td>\n",
       "      <td>EQ</td>\n",
       "      <td>INE758T01015</td>\n",
       "    </tr>\n",
       "    <tr>\n",
       "      <th>747</th>\n",
       "      <td>Zydus Lifesciences Ltd.</td>\n",
       "      <td>Healthcare</td>\n",
       "      <td>ZYDUSLIFE</td>\n",
       "      <td>EQ</td>\n",
       "      <td>INE010B01027</td>\n",
       "    </tr>\n",
       "    <tr>\n",
       "      <th>748</th>\n",
       "      <td>Zydus Wellness Ltd.</td>\n",
       "      <td>Fast Moving Consumer Goods</td>\n",
       "      <td>ZYDUSWELL</td>\n",
       "      <td>EQ</td>\n",
       "      <td>INE768C01010</td>\n",
       "    </tr>\n",
       "    <tr>\n",
       "      <th>749</th>\n",
       "      <td>eClerx Services Ltd.</td>\n",
       "      <td>Services</td>\n",
       "      <td>ECLERX</td>\n",
       "      <td>EQ</td>\n",
       "      <td>INE738I01010</td>\n",
       "    </tr>\n",
       "    <tr>\n",
       "      <th>750</th>\n",
       "      <td>eMudhra Ltd.</td>\n",
       "      <td>Information Technology</td>\n",
       "      <td>EMUDHRA</td>\n",
       "      <td>EQ</td>\n",
       "      <td>INE01QM01018</td>\n",
       "    </tr>\n",
       "  </tbody>\n",
       "</table>\n",
       "<p>751 rows × 5 columns</p>\n",
       "</div>"
      ],
      "text/plain": [
       "                Company Name                    Industry     Symbol Series  \\\n",
       "0           360 ONE WAM Ltd.          Financial Services     360ONE     EQ   \n",
       "1              3M India Ltd.                 Diversified    3MINDIA     EQ   \n",
       "2             ABB India Ltd.               Capital Goods        ABB     EQ   \n",
       "3                   ACC Ltd.      Construction Materials        ACC     EQ   \n",
       "4          AGI Greenpac Ltd.               Capital Goods        AGI     EQ   \n",
       "..                       ...                         ...        ...    ...   \n",
       "746              Zomato Ltd.           Consumer Services     ZOMATO     EQ   \n",
       "747  Zydus Lifesciences Ltd.                  Healthcare  ZYDUSLIFE     EQ   \n",
       "748      Zydus Wellness Ltd.  Fast Moving Consumer Goods  ZYDUSWELL     EQ   \n",
       "749     eClerx Services Ltd.                    Services     ECLERX     EQ   \n",
       "750             eMudhra Ltd.      Information Technology    EMUDHRA     EQ   \n",
       "\n",
       "        ISIN Code  \n",
       "0    INE466L01038  \n",
       "1    INE470A01017  \n",
       "2    INE117A01022  \n",
       "3    INE012A01025  \n",
       "4    INE415A01038  \n",
       "..            ...  \n",
       "746  INE758T01015  \n",
       "747  INE010B01027  \n",
       "748  INE768C01010  \n",
       "749  INE738I01010  \n",
       "750  INE01QM01018  \n",
       "\n",
       "[751 rows x 5 columns]"
      ]
     },
     "execution_count": 12,
     "metadata": {},
     "output_type": "execute_result"
    }
   ],
   "source": [
    "df"
   ]
  },
  {
   "cell_type": "code",
   "execution_count": 13,
   "metadata": {},
   "outputs": [],
   "source": [
    "pf = {'TCS.NS':0.33, 'TATAMOTORS.NS': 0.33, 'ABB.NS':0.33, 'AGI.NS': 0.33}"
   ]
  },
  {
   "cell_type": "code",
   "execution_count": 14,
   "metadata": {},
   "outputs": [],
   "source": [
    "pf_industry = {}\n",
    "for stock, weight in pf.items():\n",
    "    symbol = stock[:-3]\n",
    "    industry = df[df['Symbol']==symbol]['Industry'].iloc[0]\n",
    "    pf_industry[stock] = industry"
   ]
  },
  {
   "cell_type": "code",
   "execution_count": 15,
   "metadata": {},
   "outputs": [
    {
     "data": {
      "text/plain": [
       "{'TCS.NS': 'Information Technology',\n",
       " 'TATAMOTORS.NS': 'Automobile and Auto Components',\n",
       " 'ABB.NS': 'Capital Goods',\n",
       " 'AGI.NS': 'Capital Goods'}"
      ]
     },
     "execution_count": 15,
     "metadata": {},
     "output_type": "execute_result"
    }
   ],
   "source": [
    "pf_industry"
   ]
  },
  {
   "cell_type": "code",
   "execution_count": 16,
   "metadata": {},
   "outputs": [
    {
     "data": {
      "image/png": "[encoded data removed]",
      "text/plain": [
       "<Figure size 800x800 with 1 Axes>"
      ]
     },
     "metadata": {},
     "output_type": "display_data"
    }
   ],
   "source": [
    "total_weight = sum(pf.values())\n",
    "adjusted_pf = {symbol: weight / total_weight for symbol, weight in pf.items()}\n",
    "\n",
    "labels = [f\"{symbol}\\n({adjusted_pf[symbol]*100:.1f}%)\" for symbol in adjusted_pf.keys()]\n",
    "sizes = [weight for weight in adjusted_pf.values()]\n",
    "\n",
    "industries = list(set(pf_industry.values()))\n",
    "colors = plt.cm.get_cmap('tab10', len(industries))\n",
    "industry_colors = {industry: colors(i) for i, industry in enumerate(industries)}\n",
    "pie_colors = [industry_colors[pf_industry[symbol]] for symbol in adjusted_pf.keys()]\n",
    "\n",
    "fig, ax = plt.subplots(figsize=(8, 8), facecolor='white')\n",
    "wedges, texts, autotexts = ax.pie(sizes, labels=labels, autopct='%1.1f%%', startangle=90, colors=pie_colors, wedgeprops=dict(edgecolor='white'), textprops={'color': 'white'})\n",
    "\n",
    "legend_elements = [Patch(facecolor=industry_colors[industry], edgecolor='white', label=industry) for industry in set(pf_industry.values())]\n",
    "legend = ax.legend(handles=legend_elements, title=\"Industries\", loc=\"center left\", bbox_to_anchor=(1, 0, 0.5, 1), frameon=True, facecolor='none')\n",
    "plt.setp(legend.get_texts(), color='white')\n",
    "plt.setp(legend.get_title(), color='white')\n",
    "\n",
    "ax.axis('equal')\n",
    "plt.tight_layout()\n",
    "plt.savefig('portfolio_pie_chart.png', bbox_inches='tight', transparent=True)"
   ]
  }
 ],
 "metadata": {
  "kernelspec": {
   "display_name": "Python 3",
   "language": "python",
   "name": "python3"
  },
  "language_info": {
   "codemirror_mode": {
    "name": "ipython",
    "version": 3
   },
   "file_extension": ".py",
   "mimetype": "text/x-python",
   "name": "python",
   "nbconvert_exporter": "python",
   "pygments_lexer": "ipython3",
   "version": "3.10.11"
  }
 },
 "nbformat": 4,
 "nbformat_minor": 2
}
